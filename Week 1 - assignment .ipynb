{
 "cells": [
  {
   "cell_type": "markdown",
   "id": "e333d392",
   "metadata": {},
   "source": [
    "# Week 1 - Assignment\n",
    "\n",
    "This notebook contains scenario-based Python along with their solutions. It covers topics such as Python basics, data structures, NumPy, pandas, and data types. \n"
   ]
  },
  {
   "cell_type": "markdown",
   "id": "5b0c6b38",
   "metadata": {},
   "source": [
    "###  1. Scenario: You have a list of integers, and you need to find the maximum value in the list. \n",
    "\n",
    "a. Question: How would you find the maximum value from the following list? "
   ]
  },
  {
   "cell_type": "code",
   "execution_count": 1,
   "id": "0181a1c3",
   "metadata": {},
   "outputs": [
    {
     "name": "stdout",
     "output_type": "stream",
     "text": [
      "9\n"
     ]
    }
   ],
   "source": [
    "# finding the maximum value from the following list\n",
    "\n",
    "num = numbers = [4, 7, 1, 9, 3, 6]\n",
    "\n",
    "print(max(num))"
   ]
  },
  {
   "cell_type": "markdown",
   "id": "94355d64",
   "metadata": {},
   "source": [
    "### 2. Scenario: You need to concatenate a list of strings into a single string, with each string separated by a comma. \n",
    "\n",
    "a. Question: How would you combine the following list of strings into a single string? "
   ]
  },
  {
   "cell_type": "code",
   "execution_count": 2,
   "id": "bd30fbed",
   "metadata": {},
   "outputs": [
    {
     "name": "stdout",
     "output_type": "stream",
     "text": [
      "Kalpana, Rajesh, Asmita, Manjeel, Josiah, Destiny\n"
     ]
    }
   ],
   "source": [
    "# combining the list of strings into a single string \n",
    "name = ['Kalpana', 'Rajesh', 'Asmita', 'Manjeel', 'Josiah', 'Destiny']\n",
    "results = \", \".join(name)\n",
    "print(results)"
   ]
  },
  {
   "cell_type": "code",
   "execution_count": null,
   "id": "bee95594",
   "metadata": {},
   "outputs": [],
   "source": [
    " "
   ]
  },
  {
   "cell_type": "markdown",
   "id": "6cfc0c82",
   "metadata": {},
   "source": [
    "### 3. Scenario: You have a dictionary where the keys are names and the values are ages. You need to retrieve the age of a specific person. \n",
    "\n",
    "a. Question: How would you get the age of \"Dev\" from the following dictionary? "
   ]
  },
  {
   "cell_type": "code",
   "execution_count": 3,
   "id": "406c7b77",
   "metadata": {},
   "outputs": [
    {
     "name": "stdout",
     "output_type": "stream",
     "text": [
      "28\n"
     ]
    }
   ],
   "source": [
    "# finding the age of Dev using index method \n",
    "age = {\"Bob\":25, \"Charle\":23, \"Eve\":20, \"Dev\":28}\n",
    "print(age[\"Dev\"]) "
   ]
  },
  {
   "cell_type": "markdown",
   "id": "b5731cf7",
   "metadata": {},
   "source": [
    "### 4. Scenario: You need to remove duplicate elements from a list while preserving the original order of elements.\n",
    "\n",
    "a. Question: How would you remove duplicates from the following list? "
   ]
  },
  {
   "cell_type": "code",
   "execution_count": 4,
   "id": "45b5879c",
   "metadata": {},
   "outputs": [
    {
     "data": {
      "text/plain": [
       "[1, 2, 3, 5, 6, 7, 8, 9]"
      ]
     },
     "execution_count": 4,
     "metadata": {},
     "output_type": "execute_result"
    }
   ],
   "source": [
    "list_dup = [1,2, 3, 5, 6,7 ,8,5,6,7,8,9,9]\n",
    "set_dup = set()\n",
    "uniq_list = [x for x in list_dup if not (x in set_dup or set_dup.add(x))]\n",
    "uniq_list\n"
   ]
  },
  {
   "cell_type": "code",
   "execution_count": null,
   "id": "0dbffbaa",
   "metadata": {},
   "outputs": [],
   "source": []
  },
  {
   "cell_type": "markdown",
   "id": "716d57b2",
   "metadata": {},
   "source": [
    "### 5. Scenario: You have a NumPy array and need to compute the sum of all its elements. \n",
    "\n",
    "a. Question: How would you find the sum of elements in the following NumPy array? "
   ]
  },
  {
   "cell_type": "code",
   "execution_count": 5,
   "id": "d558c31f",
   "metadata": {},
   "outputs": [
    {
     "name": "stdout",
     "output_type": "stream",
     "text": [
      "21\n"
     ]
    }
   ],
   "source": [
    "import numpy as np \n",
    "\n",
    "num_array = np.array([1,2,3,4,5,6])\n",
    "print(sum(num_array))"
   ]
  },
  {
   "cell_type": "markdown",
   "id": "0a49077c",
   "metadata": {},
   "source": [
    "### 6. Scenario: You have a 2D NumPy array and need to get the maximum value from each column.\n",
    "\n",
    "a. Question: How would you find the maximum values for each column in the following array? "
   ]
  },
  {
   "cell_type": "code",
   "execution_count": 6,
   "id": "e07ef457",
   "metadata": {},
   "outputs": [
    {
     "name": "stdout",
     "output_type": "stream",
     "text": [
      "[ 9  7 10]\n"
     ]
    }
   ],
   "source": [
    "array = np.array([[1,2,3],\n",
    "                [4,5,6], \n",
    "                [9,7,10]])\n",
    "max_value = np.max(array, axis =0)\n",
    "print(max_value)"
   ]
  },
  {
   "cell_type": "markdown",
   "id": "da0abb5a",
   "metadata": {},
   "source": [
    "### 7. Scenario: You have a DataFrame and need to sort it by a specific column.\n",
    "\n",
    "a. Question: How would you sort the DataFrame by the \"Age\" column? "
   ]
  },
  {
   "cell_type": "code",
   "execution_count": 7,
   "id": "460e6d4c",
   "metadata": {},
   "outputs": [],
   "source": [
    "import pandas as pd \n",
    "\n",
    "data = {'Name': ['Kalpana', 'Rajesh', 'Josiah', 'Destiny'], \n",
    "       'Age': [28,27,15,10]}\n",
    "df = pd.DataFrame(data)"
   ]
  },
  {
   "cell_type": "code",
   "execution_count": 8,
   "id": "63ce35ae",
   "metadata": {},
   "outputs": [
    {
     "name": "stdout",
     "output_type": "stream",
     "text": [
      "      Name  Age\n",
      "3  Destiny   10\n",
      "2   Josiah   15\n",
      "1   Rajesh   27\n",
      "0  Kalpana   28\n"
     ]
    }
   ],
   "source": [
    "sort_df = df.sort_values(by='Age')\n",
    "print(sort_df)"
   ]
  },
  {
   "cell_type": "markdown",
   "id": "5ac6c8dc",
   "metadata": {},
   "source": [
    "### 8. Scenario: You need to calculate the total sum of a column in a DataFrame. \n",
    "\n",
    "a. Question: How would you find the sum of the \"Sales\" column? "
   ]
  },
  {
   "cell_type": "code",
   "execution_count": 9,
   "id": "74646ac3",
   "metadata": {},
   "outputs": [
    {
     "name": "stdout",
     "output_type": "stream",
     "text": [
      "165\n"
     ]
    }
   ],
   "source": [
    "data_1 = { 'product': ['Apple', 'Banana','Orange', 'Citrus'],\n",
    "         'Sales': [10, 15, 40, 100]}\n",
    "df_sales = pd.DataFrame(data_1)\n",
    "sum_sales = df_sales['Sales'].sum()\n",
    "print(sum_sales)"
   ]
  },
  {
   "cell_type": "markdown",
   "id": "19b7e496",
   "metadata": {},
   "source": []
  },
  {
   "cell_type": "markdown",
   "id": "adcc4f95",
   "metadata": {},
   "source": [
    "### 9. Scenario: You need to check if a variable is of type int.\n",
    "\n",
    "a. Question: How would you verify if a variable x is an integer? "
   ]
  },
  {
   "cell_type": "code",
   "execution_count": 10,
   "id": "13f9e93c",
   "metadata": {},
   "outputs": [
    {
     "name": "stdout",
     "output_type": "stream",
     "text": [
      "True\n"
     ]
    }
   ],
   "source": [
    "numb = 5.0 \n",
    "print(numb.is_integer())"
   ]
  },
  {
   "cell_type": "code",
   "execution_count": null,
   "id": "6c9b8cc0",
   "metadata": {},
   "outputs": [],
   "source": [
    "\n"
   ]
  },
  {
   "cell_type": "markdown",
   "id": "d8f62f5b",
   "metadata": {},
   "source": [
    "### 10. Scenario: You have a list of mixed types and need to create separate lists for integers, floats, and strings.\n",
    "\n",
    "a. Question: How would you categorize the following mixed list into different types? "
   ]
  },
  {
   "cell_type": "code",
   "execution_count": 11,
   "id": "3c088ce2",
   "metadata": {},
   "outputs": [],
   "source": [
    "# created a mixed types of list \n",
    "mixed_list = [1, 2.5, 'apple', 3, 4.0, 'banana', 5, 6.7, 'cherry']\n",
    "\n",
    "# Initialize separate lists\n",
    "integers = []\n",
    "floats = []\n",
    "strings = []"
   ]
  },
  {
   "cell_type": "code",
   "execution_count": 12,
   "id": "f4e1f92d",
   "metadata": {},
   "outputs": [],
   "source": [
    "# creating a list using for loop and if else statement \n",
    "\n",
    "for i in mixed_list:\n",
    "    if isinstance(i, int): \n",
    "        integers.append(i)\n",
    "    elif isinstance(i, float):\n",
    "        floats.append(i)\n",
    "    elif isinstance(i, str): \n",
    "        strings.append(i)\n",
    "        "
   ]
  },
  {
   "cell_type": "code",
   "execution_count": 13,
   "id": "aaf10269",
   "metadata": {},
   "outputs": [
    {
     "name": "stdout",
     "output_type": "stream",
     "text": [
      "[1, 3, 5]\n",
      "[2.5, 4.0, 6.7]\n",
      "['apple', 'banana', 'cherry']\n"
     ]
    }
   ],
   "source": [
    "print(integers)\n",
    "print(floats)\n",
    "print(strings)"
   ]
  },
  {
   "cell_type": "code",
   "execution_count": null,
   "id": "cf448d25",
   "metadata": {},
   "outputs": [],
   "source": []
  },
  {
   "cell_type": "markdown",
   "id": "0eecd7a5",
   "metadata": {},
   "source": [
    "### 11. Scenario: You are given a string of comma-separated numbers. You need to convert this string into a list of integers. \n",
    "\n",
    "a. Question: How would you achieve this conversion? "
   ]
  },
  {
   "cell_type": "code",
   "execution_count": 14,
   "id": "1bac047b",
   "metadata": {},
   "outputs": [
    {
     "data": {
      "text/plain": [
       "['1', '2', '3', '4', '5', '6']"
      ]
     },
     "execution_count": 14,
     "metadata": {},
     "output_type": "execute_result"
    }
   ],
   "source": [
    "# created a variable name num_str with comma-separated numbers \n",
    "num_str = '1,2,3,4,5,6'\n",
    "# split the numbers \n",
    "num = num_str.split(',')\n",
    "num"
   ]
  },
  {
   "cell_type": "code",
   "execution_count": 15,
   "id": "2226e98f",
   "metadata": {},
   "outputs": [
    {
     "name": "stdout",
     "output_type": "stream",
     "text": [
      "[1, 2, 3, 4, 5, 6]\n"
     ]
    }
   ],
   "source": [
    "# Converted \n",
    "int_list = [int(x)for x in num]\n",
    "print(int_list)"
   ]
  },
  {
   "cell_type": "markdown",
   "id": "0536bf7f",
   "metadata": {},
   "source": [
    "### 12. Scenario: You need to reverse the words in a sentence while keeping the order of the words intact.\n",
    "\n",
    "a. Question: How would you reverse each word in the following sentence? "
   ]
  },
  {
   "cell_type": "code",
   "execution_count": 16,
   "id": "51a88207",
   "metadata": {},
   "outputs": [
    {
     "data": {
      "text/plain": [
       "['Hello', 'I', 'am', 'Kalpana']"
      ]
     },
     "execution_count": 16,
     "metadata": {},
     "output_type": "execute_result"
    }
   ],
   "source": [
    "# step 1: split the sentence into words\n",
    "sen = 'Hello I am Kalpana'\n",
    "words = sen.split()\n",
    "words"
   ]
  },
  {
   "cell_type": "code",
   "execution_count": 17,
   "id": "2bbbc76b",
   "metadata": {},
   "outputs": [
    {
     "name": "stdout",
     "output_type": "stream",
     "text": [
      "olleH I ma anaplaK\n"
     ]
    }
   ],
   "source": [
    "# Step 2: Reverse each word\n",
    "rev_words = [word[::-1] for word in words]\n",
    "\n",
    "# Step 3: Join the reversed words back into a sentence\n",
    "rev_sen = ' '.join(rev_words)\n",
    "\n",
    "print(rev_sen)\n"
   ]
  },
  {
   "cell_type": "code",
   "execution_count": null,
   "id": "48d7c817",
   "metadata": {},
   "outputs": [],
   "source": []
  },
  {
   "cell_type": "markdown",
   "id": "dadea416",
   "metadata": {},
   "source": [
    "### 13. Scenario: You need to combine two lists into a dictionary where the elements of the first list are keys and the elements of the second list are values. \n",
    "\n",
    "a. Question: How would you combine the following lists into a dictionary? "
   ]
  },
  {
   "cell_type": "code",
   "execution_count": 18,
   "id": "ca8d58c8",
   "metadata": {},
   "outputs": [
    {
     "name": "stdout",
     "output_type": "stream",
     "text": [
      "{'Kalpana': 'Biswa', 'Rajesh': 'Chaulagain', 'Asmita': 'Shrestha', 'Josiah': 'Baral'}\n"
     ]
    }
   ],
   "source": [
    "first_name = ['Kalpana', 'Rajesh', 'Asmita', 'Josiah']\n",
    "last_name = ['Biswa', 'Chaulagain', 'Shrestha', 'Baral']\n",
    "first_last_name = dict(zip(first_name, last_name))\n",
    "print(first_last_name)"
   ]
  },
  {
   "cell_type": "markdown",
   "id": "ccf8b354",
   "metadata": {},
   "source": [
    "### 14. Scenario: You are given a list of tuples where each tuple contains a name and an age. You need to sort this list by age. \n",
    "\n",
    "a. Question: How would you sort the following list of tuples by age? "
   ]
  },
  {
   "cell_type": "code",
   "execution_count": 19,
   "id": "485f73e3",
   "metadata": {},
   "outputs": [
    {
     "name": "stdout",
     "output_type": "stream",
     "text": [
      "[('Maya', 20), ('Ray', 25), ('Jade', 30), ('Chris', 35)]\n"
     ]
    }
   ],
   "source": [
    "people = [('Jade', 30), ('Ray', 25), ('Chris', 35), ('Maya', 20)]\n",
    "sorted_people = sorted(people, key=lambda x: x[1])\n",
    "print(sorted_people)\n"
   ]
  },
  {
   "cell_type": "markdown",
   "id": "20487e4f",
   "metadata": {},
   "source": [
    "### 15. Scenario: You have a 2D NumPy array and need to calculate the mean value of each row.\n",
    "\n",
    "a. Question: How would you compute the mean value for each row in the following array? "
   ]
  },
  {
   "cell_type": "code",
   "execution_count": 20,
   "id": "bba0deec",
   "metadata": {},
   "outputs": [
    {
     "name": "stdout",
     "output_type": "stream",
     "text": [
      "[2.         5.         8.66666667]\n"
     ]
    }
   ],
   "source": [
    "array = np.array([[1,2,3],\n",
    "                [4,5,6], \n",
    "                [9,7,10]])\n",
    "mean_value = np.mean(array, axis =1)\n",
    "print(mean_value)"
   ]
  },
  {
   "cell_type": "markdown",
   "id": "cccca376",
   "metadata": {},
   "source": [
    "### 16. Scenario: You need to create a NumPy array of size 10 filled with zeros, and then set the fifth element to 5. \n",
    "\n",
    "a. Question: How would you create and modify the array as described? "
   ]
  },
  {
   "cell_type": "code",
   "execution_count": 21,
   "id": "506e860c",
   "metadata": {},
   "outputs": [
    {
     "name": "stdout",
     "output_type": "stream",
     "text": [
      "[0. 0. 0. 0. 5. 0. 0. 0. 0. 0.]\n"
     ]
    }
   ],
   "source": [
    "array_np = np.zeros(10)\n",
    "array_np[4]=5\n",
    "print(array_np)"
   ]
  },
  {
   "cell_type": "markdown",
   "id": "f1490f88",
   "metadata": {},
   "source": [
    "### 17. Scenario: You have a DataFrame and need to find the median of a numeric column. \n",
    "\n",
    "a. Question: How would you find the median of the \"Scores\" column in the following DataFrame? "
   ]
  },
  {
   "cell_type": "code",
   "execution_count": 22,
   "id": "259f001b",
   "metadata": {},
   "outputs": [],
   "source": [
    "import pandas as pd\n",
    "data_score = {'Name': ['Kaleb', 'Raj', 'Dev', 'Ram'], 'Scores': [80, 90, 87, 95]}\n",
    "df_score  = pd.DataFrame(data_score)"
   ]
  },
  {
   "cell_type": "code",
   "execution_count": 23,
   "id": "710fe096",
   "metadata": {},
   "outputs": [
    {
     "data": {
      "text/plain": [
       "88.5"
      ]
     },
     "execution_count": 23,
     "metadata": {},
     "output_type": "execute_result"
    }
   ],
   "source": [
    "median_score = df_score['Scores'].median()\n",
    "median_score"
   ]
  },
  {
   "cell_type": "markdown",
   "id": "68791c93",
   "metadata": {},
   "source": [
    "### 18. Scenario: You need to filter rows where the value in the \"Sales\" column is above 100 and then sort these rows by \"Date\" in descending order.\n",
    "\n",
    "a. Question: How would you filter and sort the DataFrame based on the given criteria? "
   ]
  },
  {
   "cell_type": "code",
   "execution_count": 24,
   "id": "ad215ec5",
   "metadata": {},
   "outputs": [
    {
     "name": "stdout",
     "output_type": "stream",
     "text": [
      "         Date  Sales Product\n",
      "3  2024-08-04    120       D\n",
      "2  2024-08-03    200       C\n",
      "0  2024-08-01    150       A\n"
     ]
    }
   ],
   "source": [
    "import pandas as pd\n",
    "\n",
    "sales_data = {'Date': ['2024-08-01', '2024-08-02', '2024-08-03', '2024-08-04'],\n",
    "              'Sales': [150, 85, 200, 120],\n",
    "              'Product': ['A', 'B', 'C', 'D']}\n",
    "\n",
    "df = pd.DataFrame(sales_data)\n",
    "filtered_df = df[df['Sales'] > 100]\n",
    "sorted_df = filtered_df.sort_values(by='Date', ascending=False)\n",
    "print(sorted_df)\n"
   ]
  },
  {
   "cell_type": "markdown",
   "id": "57c705bd",
   "metadata": {},
   "source": [
    "### 19. Scenario: You have a string containing a number and need to convert it to an integer. Additionally, handle the case where the string might not represent a valid integer. \n",
    "\n",
    "a. Question: How would you safely convert the string \"42\" to an integer and handle invalid cases? "
   ]
  },
  {
   "cell_type": "code",
   "execution_count": 25,
   "id": "dede79e6",
   "metadata": {},
   "outputs": [
    {
     "name": "stdout",
     "output_type": "stream",
     "text": [
      "42\n"
     ]
    }
   ],
   "source": [
    "numbers = \"42\"\n",
    "num = int(numbers)\n",
    "print(num)"
   ]
  },
  {
   "cell_type": "markdown",
   "id": "0000ecfe",
   "metadata": {},
   "source": [
    "### 20. Scenario: You have a list containing different data types, and you want to separate out all the strings.\n",
    "\n",
    "a. Question: How would you extract all string elements from the following list? "
   ]
  },
  {
   "cell_type": "code",
   "execution_count": 26,
   "id": "da2f8002",
   "metadata": {},
   "outputs": [
    {
     "data": {
      "text/plain": [
       "['Kalpana', 'Ramsy', '2.6', 'Apple']"
      ]
     },
     "execution_count": 26,
     "metadata": {},
     "output_type": "execute_result"
    }
   ],
   "source": [
    "mixed_list = [2,4.5, 'Kalpana', 'Ramsy','2.6', True, False, 'Apple', 34 ]\n",
    "str_element = [i for i in mixed_list if isinstance(i, str)]\n",
    "str_element"
   ]
  },
  {
   "cell_type": "code",
   "execution_count": null,
   "id": "4053bf19",
   "metadata": {},
   "outputs": [],
   "source": []
  }
 ],
 "metadata": {
  "kernelspec": {
   "display_name": "Python 3 (ipykernel)",
   "language": "python",
   "name": "python3"
  },
  "language_info": {
   "codemirror_mode": {
    "name": "ipython",
    "version": 3
   },
   "file_extension": ".py",
   "mimetype": "text/x-python",
   "name": "python",
   "nbconvert_exporter": "python",
   "pygments_lexer": "ipython3",
   "version": "3.11.5"
  }
 },
 "nbformat": 4,
 "nbformat_minor": 5
}
